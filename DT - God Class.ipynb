{
 "cells": [
  {
   "cell_type": "code",
   "execution_count": 1,
   "metadata": {},
   "outputs": [],
   "source": [
    "## Import libs\n",
    "import pandas as pd\n",
    "import numpy as np\n",
    "import matplotlib.pyplot as plt\n",
    "from sklearn.compose import ColumnTransformer\n",
    "from sklearn.pipeline import Pipeline\n",
    "from sklearn.impute import SimpleImputer\n",
    "from sklearn.preprocessing import OneHotEncoder, OrdinalEncoder, MinMaxScaler, StandardScaler, RobustScaler\n",
    "from sklearn.model_selection import train_test_split\n",
    "from sklearn.model_selection import cross_val_score\n",
    "from sklearn.metrics import mean_squared_error, mean_absolute_error"
   ]
  },
  {
   "cell_type": "code",
   "execution_count": 2,
   "metadata": {},
   "outputs": [],
   "source": [
    "## LOAD DATA AND EXPLORATORY ANALYSIS"
   ]
  },
  {
   "cell_type": "code",
   "execution_count": 3,
   "metadata": {},
   "outputs": [
    {
     "data": {
      "text/plain": [
       "(50930, 15)"
      ]
     },
     "execution_count": 3,
     "metadata": {},
     "output_type": "execute_result"
    }
   ],
   "source": [
    "## Load dataset and drop unusefull columns\n",
    "X_full = pd.read_csv('classes_dataset.csv', dtype={col: np.float32 for col in ['lcc', 'lcom*']})\n",
    "X_full.shape"
   ]
  },
  {
   "cell_type": "code",
   "execution_count": 4,
   "metadata": {},
   "outputs": [
    {
     "data": {
      "text/plain": [
       "(34115, 13)"
      ]
     },
     "execution_count": 4,
     "metadata": {},
     "output_type": "execute_result"
    }
   ],
   "source": [
    "## Initial data treatment\n",
    "#X_full.drop(['lcc'], axis=1, inplace=True)\n",
    "X_full.drop(['refusedBequest'], axis=1, inplace=True)\n",
    "X_full.drop(['Unnamed: 0'],axis=1,inplace=True)\n",
    "X_full.dropna(inplace=True)\n",
    "X_full.shape"
   ]
  },
  {
   "cell_type": "code",
   "execution_count": 5,
   "metadata": {},
   "outputs": [
    {
     "data": {
      "text/html": [
       "<div>\n",
       "<style scoped>\n",
       "    .dataframe tbody tr th:only-of-type {\n",
       "        vertical-align: middle;\n",
       "    }\n",
       "\n",
       "    .dataframe tbody tr th {\n",
       "        vertical-align: top;\n",
       "    }\n",
       "\n",
       "    .dataframe thead th {\n",
       "        text-align: right;\n",
       "    }\n",
       "</style>\n",
       "<table border=\"1\" class=\"dataframe\">\n",
       "  <thead>\n",
       "    <tr style=\"text-align: right;\">\n",
       "      <th></th>\n",
       "      <th>dit</th>\n",
       "      <th>fanin</th>\n",
       "      <th>fanout</th>\n",
       "      <th>lcc</th>\n",
       "      <th>lcom*</th>\n",
       "      <th>loc</th>\n",
       "      <th>noc</th>\n",
       "      <th>rfc</th>\n",
       "      <th>innerClassesQty</th>\n",
       "      <th>totalFieldsQty</th>\n",
       "      <th>totalMethodsQty</th>\n",
       "      <th>wmc</th>\n",
       "      <th>godClass</th>\n",
       "    </tr>\n",
       "  </thead>\n",
       "  <tbody>\n",
       "    <tr>\n",
       "      <th>0</th>\n",
       "      <td>4</td>\n",
       "      <td>1</td>\n",
       "      <td>6</td>\n",
       "      <td>0.0</td>\n",
       "      <td>0.592593</td>\n",
       "      <td>39</td>\n",
       "      <td>0</td>\n",
       "      <td>12</td>\n",
       "      <td>0</td>\n",
       "      <td>3</td>\n",
       "      <td>9</td>\n",
       "      <td>10</td>\n",
       "      <td>0</td>\n",
       "    </tr>\n",
       "  </tbody>\n",
       "</table>\n",
       "</div>"
      ],
      "text/plain": [
       "   dit  fanin  fanout  lcc     lcom*  loc  noc  rfc  innerClassesQty  \\\n",
       "0    4      1       6  0.0  0.592593   39    0   12                0   \n",
       "\n",
       "   totalFieldsQty  totalMethodsQty  wmc  godClass  \n",
       "0               3                9   10         0  "
      ]
     },
     "execution_count": 5,
     "metadata": {},
     "output_type": "execute_result"
    }
   ],
   "source": [
    "## Show dataframe header\n",
    "X_full.head(1)"
   ]
  },
  {
   "cell_type": "code",
   "execution_count": 6,
   "metadata": {},
   "outputs": [
    {
     "data": {
      "text/plain": [
       "False"
      ]
     },
     "execution_count": 6,
     "metadata": {},
     "output_type": "execute_result"
    }
   ],
   "source": [
    "## Is any empty feature?\n",
    "np.any(np.isnan(X_full))"
   ]
  },
  {
   "cell_type": "code",
   "execution_count": 7,
   "metadata": {},
   "outputs": [],
   "source": [
    "## OUTLIERS EVALUATION"
   ]
  },
  {
   "cell_type": "code",
   "execution_count": 155,
   "metadata": {},
   "outputs": [],
   "source": [
    "## Function to show boxplot\n",
    "def plot_boxplot(df):\n",
    "    df.boxplot()\n",
    "    plt.grid(False)\n",
    "    plt.show()"
   ]
  },
  {
   "cell_type": "code",
   "execution_count": 156,
   "metadata": {
    "scrolled": true
   },
   "outputs": [
    {
     "data": {
      "image/png": "[encoded data removed]",
      "text/plain": [
       "<Figure size 432x288 with 1 Axes>"
      ]
     },
     "metadata": {
      "needs_background": "light"
     },
     "output_type": "display_data"
    }
   ],
   "source": [
    "plot_boxplot(X_full)"
   ]
  },
  {
   "cell_type": "code",
   "execution_count": 157,
   "metadata": {},
   "outputs": [],
   "source": [
    "## Function to return outliers\n",
    "def outliers(df, ft):\n",
    "    \n",
    "    ## first quartile\n",
    "    Q1 = df[ft].quantile(0.25)\n",
    "    \n",
    "    ## third quartile\n",
    "    Q3 = df[ft].quantile(0.75)\n",
    "    \n",
    "    ## calculate interquartile range - distance between quartiles\n",
    "    IQR = Q3-Q1\n",
    "    \n",
    "    ## calculate upper boundary\n",
    "    UB = Q3 + 1.5 * IQR\n",
    "    \n",
    "    ## calculate lower boundary\n",
    "    LB = Q1 - 1.5 * IQR\n",
    "    \n",
    "    ## outliers list\n",
    "    index_outliers = df.index[ (df[ft] < LB) | (df[ft] > UB) ]\n",
    "    \n",
    "    # return indexes list\n",
    "    return index_outliers"
   ]
  },
  {
   "cell_type": "code",
   "execution_count": 158,
   "metadata": {},
   "outputs": [],
   "source": [
    "## Create list of outliers, by index\n",
    "index_list = []\n",
    "for feature in ['dit', 'fanin', 'fanout', 'lcom*', 'loc', 'noc', 'rfc', 'innerClassesQty', 'totalFieldsQty', 'totalMethodsQty', 'wmc']:\n",
    "    index_list.extend(outliers(X_full, feature))"
   ]
  },
  {
   "cell_type": "code",
   "execution_count": 159,
   "metadata": {},
   "outputs": [
    {
     "data": {
      "text/plain": [
       "44094"
      ]
     },
     "execution_count": 159,
     "metadata": {},
     "output_type": "execute_result"
    }
   ],
   "source": [
    "## Show index list size\n",
    "len(index_list)"
   ]
  },
  {
   "cell_type": "code",
   "execution_count": 8,
   "metadata": {},
   "outputs": [],
   "source": [
    "## SPLIT DATA"
   ]
  },
  {
   "cell_type": "code",
   "execution_count": 9,
   "metadata": {},
   "outputs": [],
   "source": [
    "## Split dataset in metrics and godsmell ds\n",
    "X = X_full.drop(['godClass'], axis=1)\n",
    "y = X_full.godClass"
   ]
  },
  {
   "cell_type": "code",
   "execution_count": 10,
   "metadata": {},
   "outputs": [],
   "source": [
    "SEED = 0"
   ]
  },
  {
   "cell_type": "code",
   "execution_count": 11,
   "metadata": {},
   "outputs": [],
   "source": [
    "## Split train and test dataset\n",
    "X_train, X_test, y_train, y_test = train_test_split(X, y, train_size=0.8, random_state=SEED)"
   ]
  },
  {
   "cell_type": "code",
   "execution_count": 12,
   "metadata": {
    "scrolled": true
   },
   "outputs": [
    {
     "data": {
      "text/plain": [
       "(27292, 12)"
      ]
     },
     "execution_count": 12,
     "metadata": {},
     "output_type": "execute_result"
    }
   ],
   "source": [
    "## Show train size\n",
    "X_train.shape"
   ]
  },
  {
   "cell_type": "code",
   "execution_count": 13,
   "metadata": {},
   "outputs": [
    {
     "data": {
      "text/plain": [
       "(6823, 12)"
      ]
     },
     "execution_count": 13,
     "metadata": {},
     "output_type": "execute_result"
    }
   ],
   "source": [
    "## Show test size\n",
    "X_test.shape"
   ]
  },
  {
   "cell_type": "code",
   "execution_count": 165,
   "metadata": {},
   "outputs": [],
   "source": [
    "## FIND MOST IMPORTANT FEATURES"
   ]
  },
  {
   "cell_type": "code",
   "execution_count": 166,
   "metadata": {},
   "outputs": [],
   "source": [
    "## Load libs\n",
    "from sklearn.ensemble import ExtraTreesRegressor"
   ]
  },
  {
   "cell_type": "code",
   "execution_count": 167,
   "metadata": {},
   "outputs": [
    {
     "data": {
      "text/plain": [
       "ExtraTreesRegressor()"
      ]
     },
     "execution_count": 167,
     "metadata": {},
     "output_type": "execute_result"
    }
   ],
   "source": [
    "## Training the model\n",
    "reg= ExtraTreesRegressor()\n",
    "reg.fit(X_train,y_train)"
   ]
  },
  {
   "cell_type": "code",
   "execution_count": 168,
   "metadata": {},
   "outputs": [
    {
     "data": {
      "text/plain": [
       "array([0.03845493, 0.05204463, 0.08233825, 0.13389692, 0.12569965,\n",
       "       0.01724968, 0.13671078, 0.02699322, 0.05091898, 0.07877975,\n",
       "       0.2569132 ])"
      ]
     },
     "execution_count": 168,
     "metadata": {},
     "output_type": "execute_result"
    }
   ],
   "source": [
    "## Print the importance\n",
    "reg.feature_importances_"
   ]
  },
  {
   "cell_type": "code",
   "execution_count": 169,
   "metadata": {},
   "outputs": [
    {
     "data": {
      "image/png": "[encoded data removed]",
      "text/plain": [
       "<Figure size 432x288 with 1 Axes>"
      ]
     },
     "metadata": {
      "needs_background": "light"
     },
     "output_type": "display_data"
    }
   ],
   "source": [
    "## Importance in bar graph\n",
    "feat_importances = pd.Series(reg.feature_importances_, index=X_train.columns)\n",
    "feat_importances.nlargest(11).plot(kind='barh')\n",
    "plt.show()"
   ]
  },
  {
   "cell_type": "code",
   "execution_count": 14,
   "metadata": {},
   "outputs": [],
   "source": [
    "## PIPELINE"
   ]
  },
  {
   "cell_type": "code",
   "execution_count": 15,
   "metadata": {},
   "outputs": [],
   "source": [
    "## Import descision tree lib\n",
    "from sklearn.tree import DecisionTreeClassifier"
   ]
  },
  {
   "cell_type": "code",
   "execution_count": 16,
   "metadata": {},
   "outputs": [],
   "source": [
    "## Create instance\n",
    "dtreeCLF = DecisionTreeClassifier(random_state=SEED)"
   ]
  },
  {
   "cell_type": "code",
   "execution_count": 17,
   "metadata": {},
   "outputs": [],
   "source": [
    "pipe = Pipeline(steps=[\n",
    "            ('minmaxscaler', MinMaxScaler()),\n",
    "            ('dtreeCLF', dtreeCLF)\n",
    "    ])"
   ]
  },
  {
   "cell_type": "code",
   "execution_count": 18,
   "metadata": {
    "scrolled": true
   },
   "outputs": [
    {
     "data": {
      "text/plain": [
       "dict_keys(['memory', 'steps', 'verbose', 'minmaxscaler', 'dtreeCLF', 'minmaxscaler__copy', 'minmaxscaler__feature_range', 'dtreeCLF__ccp_alpha', 'dtreeCLF__class_weight', 'dtreeCLF__criterion', 'dtreeCLF__max_depth', 'dtreeCLF__max_features', 'dtreeCLF__max_leaf_nodes', 'dtreeCLF__min_impurity_decrease', 'dtreeCLF__min_impurity_split', 'dtreeCLF__min_samples_leaf', 'dtreeCLF__min_samples_split', 'dtreeCLF__min_weight_fraction_leaf', 'dtreeCLF__presort', 'dtreeCLF__random_state', 'dtreeCLF__splitter'])"
      ]
     },
     "execution_count": 18,
     "metadata": {},
     "output_type": "execute_result"
    }
   ],
   "source": [
    "pipe.get_params().keys()"
   ]
  },
  {
   "cell_type": "code",
   "execution_count": 19,
   "metadata": {},
   "outputs": [],
   "source": [
    "# 1.024 possibilities\n",
    "parameters = dict(\n",
    "    dtreeCLF__max_depth = list(range(1, 33)),\n",
    "    dtreeCLF__min_samples_split = [32,64,128,256],\n",
    "    dtreeCLF__min_samples_leaf = [32,64,128,256],\n",
    "    dtreeCLF__criterion = [\"gini\", \"entropy\"]\n",
    ")"
   ]
  },
  {
   "cell_type": "code",
   "execution_count": 20,
   "metadata": {},
   "outputs": [],
   "source": [
    "## TUNING THE MODEL"
   ]
  },
  {
   "cell_type": "code",
   "execution_count": 21,
   "metadata": {},
   "outputs": [],
   "source": [
    "## Import libs\n",
    "from sklearn.model_selection import RandomizedSearchCV, KFold"
   ]
  },
  {
   "cell_type": "code",
   "execution_count": 22,
   "metadata": {},
   "outputs": [],
   "source": [
    "## Randomized Search Instance\n",
    "randomized_search = RandomizedSearchCV(pipe,parameters,cv = KFold(n_splits=10),n_iter=100,random_state=SEED,scoring='neg_mean_squared_error')"
   ]
  },
  {
   "cell_type": "code",
   "execution_count": 23,
   "metadata": {},
   "outputs": [
    {
     "data": {
      "text/plain": [
       "RandomizedSearchCV(cv=KFold(n_splits=10, random_state=None, shuffle=False),\n",
       "                   estimator=Pipeline(steps=[('minmaxscaler', MinMaxScaler()),\n",
       "                                             ('dtreeCLF',\n",
       "                                              DecisionTreeClassifier(random_state=0))]),\n",
       "                   n_iter=100,\n",
       "                   param_distributions={'dtreeCLF__criterion': ['gini',\n",
       "                                                                'entropy'],\n",
       "                                        'dtreeCLF__max_depth': [1, 2, 3, 4, 5,\n",
       "                                                                6, 7, 8, 9, 10,\n",
       "                                                                11, 12, 13, 14,\n",
       "                                                                15, 16, 17, 18,\n",
       "                                                                19, 20, 21, 22,\n",
       "                                                                23, 24, 25, 26,\n",
       "                                                                27, 28, 29, 30, ...],\n",
       "                                        'dtreeCLF__min_samples_leaf': [32, 64,\n",
       "                                                                       128,\n",
       "                                                                       256],\n",
       "                                        'dtreeCLF__min_samples_split': [32, 64,\n",
       "                                                                        128,\n",
       "                                                                        256]},\n",
       "                   random_state=0, scoring='neg_mean_squared_error')"
      ]
     },
     "execution_count": 23,
     "metadata": {},
     "output_type": "execute_result"
    }
   ],
   "source": [
    "randomized_search.fit(X_train, y_train)"
   ]
  },
  {
   "cell_type": "code",
   "execution_count": 24,
   "metadata": {},
   "outputs": [
    {
     "data": {
      "text/html": [
       "<div>\n",
       "<style scoped>\n",
       "    .dataframe tbody tr th:only-of-type {\n",
       "        vertical-align: middle;\n",
       "    }\n",
       "\n",
       "    .dataframe tbody tr th {\n",
       "        vertical-align: top;\n",
       "    }\n",
       "\n",
       "    .dataframe thead th {\n",
       "        text-align: right;\n",
       "    }\n",
       "</style>\n",
       "<table border=\"1\" class=\"dataframe\">\n",
       "  <thead>\n",
       "    <tr style=\"text-align: right;\">\n",
       "      <th></th>\n",
       "      <th>mean_fit_time</th>\n",
       "      <th>std_fit_time</th>\n",
       "      <th>mean_score_time</th>\n",
       "      <th>std_score_time</th>\n",
       "      <th>param_dtreeCLF__min_samples_split</th>\n",
       "      <th>param_dtreeCLF__min_samples_leaf</th>\n",
       "      <th>param_dtreeCLF__max_depth</th>\n",
       "      <th>param_dtreeCLF__criterion</th>\n",
       "      <th>params</th>\n",
       "      <th>split0_test_score</th>\n",
       "      <th>...</th>\n",
       "      <th>split3_test_score</th>\n",
       "      <th>split4_test_score</th>\n",
       "      <th>split5_test_score</th>\n",
       "      <th>split6_test_score</th>\n",
       "      <th>split7_test_score</th>\n",
       "      <th>split8_test_score</th>\n",
       "      <th>split9_test_score</th>\n",
       "      <th>mean_test_score</th>\n",
       "      <th>std_test_score</th>\n",
       "      <th>rank_test_score</th>\n",
       "    </tr>\n",
       "  </thead>\n",
       "  <tbody>\n",
       "    <tr>\n",
       "      <th>0</th>\n",
       "      <td>0.035076</td>\n",
       "      <td>0.008904</td>\n",
       "      <td>0.007002</td>\n",
       "      <td>0.007540</td>\n",
       "      <td>256</td>\n",
       "      <td>256</td>\n",
       "      <td>26</td>\n",
       "      <td>entropy</td>\n",
       "      <td>{'dtreeCLF__min_samples_split': 256, 'dtreeCLF...</td>\n",
       "      <td>-0.025275</td>\n",
       "      <td>...</td>\n",
       "      <td>-0.020520</td>\n",
       "      <td>-0.022353</td>\n",
       "      <td>-0.02052</td>\n",
       "      <td>-0.024185</td>\n",
       "      <td>-0.019787</td>\n",
       "      <td>-0.026017</td>\n",
       "      <td>-0.017955</td>\n",
       "      <td>-0.022058</td>\n",
       "      <td>0.002731</td>\n",
       "      <td>78</td>\n",
       "    </tr>\n",
       "    <tr>\n",
       "      <th>1</th>\n",
       "      <td>0.023680</td>\n",
       "      <td>0.007709</td>\n",
       "      <td>0.001713</td>\n",
       "      <td>0.004659</td>\n",
       "      <td>256</td>\n",
       "      <td>128</td>\n",
       "      <td>2</td>\n",
       "      <td>gini</td>\n",
       "      <td>{'dtreeCLF__min_samples_split': 256, 'dtreeCLF...</td>\n",
       "      <td>-0.025275</td>\n",
       "      <td>...</td>\n",
       "      <td>-0.018322</td>\n",
       "      <td>-0.021253</td>\n",
       "      <td>-0.02052</td>\n",
       "      <td>-0.022719</td>\n",
       "      <td>-0.019421</td>\n",
       "      <td>-0.020154</td>\n",
       "      <td>-0.028215</td>\n",
       "      <td>-0.021984</td>\n",
       "      <td>0.003131</td>\n",
       "      <td>77</td>\n",
       "    </tr>\n",
       "  </tbody>\n",
       "</table>\n",
       "<p>2 rows × 22 columns</p>\n",
       "</div>"
      ],
      "text/plain": [
       "   mean_fit_time  std_fit_time  mean_score_time  std_score_time  \\\n",
       "0       0.035076      0.008904         0.007002        0.007540   \n",
       "1       0.023680      0.007709         0.001713        0.004659   \n",
       "\n",
       "  param_dtreeCLF__min_samples_split param_dtreeCLF__min_samples_leaf  \\\n",
       "0                               256                              256   \n",
       "1                               256                              128   \n",
       "\n",
       "  param_dtreeCLF__max_depth param_dtreeCLF__criterion  \\\n",
       "0                        26                   entropy   \n",
       "1                         2                      gini   \n",
       "\n",
       "                                              params  split0_test_score  ...  \\\n",
       "0  {'dtreeCLF__min_samples_split': 256, 'dtreeCLF...          -0.025275  ...   \n",
       "1  {'dtreeCLF__min_samples_split': 256, 'dtreeCLF...          -0.025275  ...   \n",
       "\n",
       "   split3_test_score  split4_test_score  split5_test_score  split6_test_score  \\\n",
       "0          -0.020520          -0.022353           -0.02052          -0.024185   \n",
       "1          -0.018322          -0.021253           -0.02052          -0.022719   \n",
       "\n",
       "   split7_test_score  split8_test_score  split9_test_score  mean_test_score  \\\n",
       "0          -0.019787          -0.026017          -0.017955        -0.022058   \n",
       "1          -0.019421          -0.020154          -0.028215        -0.021984   \n",
       "\n",
       "   std_test_score  rank_test_score  \n",
       "0        0.002731               78  \n",
       "1        0.003131               77  \n",
       "\n",
       "[2 rows x 22 columns]"
      ]
     },
     "execution_count": 24,
     "metadata": {},
     "output_type": "execute_result"
    }
   ],
   "source": [
    "resultados = pd.DataFrame(randomized_search.cv_results_)\n",
    "resultados.head(2)"
   ]
  },
  {
   "cell_type": "code",
   "execution_count": 25,
   "metadata": {},
   "outputs": [
    {
     "data": {
      "text/plain": [
       "{'dtreeCLF__min_samples_split': 128,\n",
       " 'dtreeCLF__min_samples_leaf': 32,\n",
       " 'dtreeCLF__max_depth': 26,\n",
       " 'dtreeCLF__criterion': 'gini'}"
      ]
     },
     "execution_count": 25,
     "metadata": {},
     "output_type": "execute_result"
    }
   ],
   "source": [
    "## Print best params\n",
    "randomized_search.best_params_"
   ]
  },
  {
   "cell_type": "code",
   "execution_count": 26,
   "metadata": {
    "scrolled": true
   },
   "outputs": [
    {
     "data": {
      "text/plain": [
       "-0.014986060720762076"
      ]
     },
     "execution_count": 26,
     "metadata": {},
     "output_type": "execute_result"
    }
   ],
   "source": [
    "## Print best score\n",
    "randomized_search.best_score_"
   ]
  },
  {
   "cell_type": "code",
   "execution_count": 27,
   "metadata": {},
   "outputs": [],
   "source": [
    "## TRAINING THE BEST MODEL"
   ]
  },
  {
   "cell_type": "code",
   "execution_count": 28,
   "metadata": {},
   "outputs": [
    {
     "data": {
      "text/plain": [
       "DecisionTreeClassifier(max_depth=26, min_samples_leaf=32, min_samples_split=128,\n",
       "                       random_state=0)"
      ]
     },
     "execution_count": 28,
     "metadata": {},
     "output_type": "execute_result"
    }
   ],
   "source": [
    "## Traning best model\n",
    "tuned_hyper_model= DecisionTreeClassifier(random_state=SEED, criterion='gini', min_samples_split=128, min_samples_leaf=32, max_depth=26)\n",
    "tuned_hyper_model.fit(X_train,y_train)"
   ]
  },
  {
   "cell_type": "code",
   "execution_count": 29,
   "metadata": {},
   "outputs": [
    {
     "data": {
      "text/plain": [
       "array([5.37173993e-05, 8.28339271e-02, 8.76424161e-03, 0.00000000e+00,\n",
       "       1.08684831e-01, 1.88424682e-03, 0.00000000e+00, 5.22426634e-02,\n",
       "       1.40715665e-03, 2.17767736e-02, 5.40479196e-03, 7.16947651e-01])"
      ]
     },
     "execution_count": 29,
     "metadata": {},
     "output_type": "execute_result"
    }
   ],
   "source": [
    "tuned_hyper_model.feature_importances_"
   ]
  },
  {
   "cell_type": "code",
   "execution_count": 30,
   "metadata": {
    "scrolled": true
   },
   "outputs": [
    {
     "data": {
      "image/png": "[encoded data removed]",
      "text/plain": [
       "<Figure size 432x288 with 1 Axes>"
      ]
     },
     "metadata": {
      "needs_background": "light"
     },
     "output_type": "display_data"
    }
   ],
   "source": [
    "feat_importances = pd.Series(tuned_hyper_model.feature_importances_, index=X_test.columns)\n",
    "feat_importances.nlargest(11).plot(kind='barh')\n",
    "plt.show()"
   ]
  },
  {
   "cell_type": "code",
   "execution_count": 31,
   "metadata": {},
   "outputs": [],
   "source": [
    "## Prediction\n",
    "y_pred=tuned_hyper_model.predict(X_test)"
   ]
  },
  {
   "cell_type": "code",
   "execution_count": 32,
   "metadata": {},
   "outputs": [
    {
     "data": {
      "text/plain": [
       "<matplotlib.collections.PathCollection at 0x1320400be20>"
      ]
     },
     "execution_count": 32,
     "metadata": {},
     "output_type": "execute_result"
    },
    {
     "data": {
      "image/png": "[encoded data removed]",
      "text/plain": [
       "<Figure size 432x288 with 1 Axes>"
      ]
     },
     "metadata": {
      "needs_background": "light"
     },
     "output_type": "display_data"
    }
   ],
   "source": [
    "## Plot result\n",
    "plt.scatter(y_test,y_pred)"
   ]
  },
  {
   "cell_type": "code",
   "execution_count": 33,
   "metadata": {},
   "outputs": [],
   "source": [
    "## EVALUATE"
   ]
  },
  {
   "cell_type": "code",
   "execution_count": 34,
   "metadata": {},
   "outputs": [
    {
     "name": "stdout",
     "output_type": "stream",
     "text": [
      "MAE: 0.016561629781620988\n",
      "MSE: 0.016561629781620988\n",
      "RMSE: 0.12869199579469187\n"
     ]
    }
   ],
   "source": [
    "## Evaluate error rate\n",
    "from sklearn import metrics\n",
    "\n",
    "print('MAE:', metrics.mean_absolute_error(y_test,y_pred))\n",
    "print('MSE:', metrics.mean_squared_error(y_test, y_pred))\n",
    "print('RMSE:', np.sqrt(metrics.mean_squared_error(y_test, y_pred)))"
   ]
  },
  {
   "cell_type": "code",
   "execution_count": 35,
   "metadata": {},
   "outputs": [],
   "source": [
    "from sklearn.metrics import precision_score, recall_score, accuracy_score, f1_score"
   ]
  },
  {
   "cell_type": "code",
   "execution_count": 36,
   "metadata": {},
   "outputs": [
    {
     "data": {
      "text/plain": [
       "0.983438370218379"
      ]
     },
     "execution_count": 36,
     "metadata": {},
     "output_type": "execute_result"
    }
   ],
   "source": [
    "accuracy_score(y_test, y_pred.round())"
   ]
  },
  {
   "cell_type": "code",
   "execution_count": 37,
   "metadata": {},
   "outputs": [
    {
     "data": {
      "text/plain": [
       "0.6810035842293907"
      ]
     },
     "execution_count": 37,
     "metadata": {},
     "output_type": "execute_result"
    }
   ],
   "source": [
    "precision_score(y_test, y_pred.round())"
   ]
  },
  {
   "cell_type": "code",
   "execution_count": 38,
   "metadata": {},
   "outputs": [
    {
     "data": {
      "text/plain": [
       "0.8878504672897196"
      ]
     },
     "execution_count": 38,
     "metadata": {},
     "output_type": "execute_result"
    }
   ],
   "source": [
    "recall_score(y_test, y_pred.round())"
   ]
  },
  {
   "cell_type": "code",
   "execution_count": 39,
   "metadata": {},
   "outputs": [
    {
     "data": {
      "text/plain": [
       "0.7707910750507099"
      ]
     },
     "execution_count": 39,
     "metadata": {},
     "output_type": "execute_result"
    }
   ],
   "source": [
    "f1_score(y_test, y_pred.round())"
   ]
  },
  {
   "cell_type": "code",
   "execution_count": null,
   "metadata": {},
   "outputs": [],
   "source": []
  }
 ],
 "metadata": {
  "kernelspec": {
   "display_name": "Python 3",
   "language": "python",
   "name": "python3"
  },
  "language_info": {
   "codemirror_mode": {
    "name": "ipython",
    "version": 3
   },
   "file_extension": ".py",
   "mimetype": "text/x-python",
   "name": "python",
   "nbconvert_exporter": "python",
   "pygments_lexer": "ipython3",
   "version": "3.8.5"
  }
 },
 "nbformat": 4,
 "nbformat_minor": 4
}
