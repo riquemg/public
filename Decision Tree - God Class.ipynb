{
 "cells": [
  {
   "cell_type": "code",
   "execution_count": 80,
   "metadata": {},
   "outputs": [],
   "source": [
    "## Import libs\n",
    "import pandas as pd\n",
    "import numpy as np\n",
    "import matplotlib.pyplot as plt\n",
    "from sklearn.compose import ColumnTransformer\n",
    "from sklearn.pipeline import Pipeline\n",
    "from sklearn.impute import SimpleImputer\n",
    "from sklearn.preprocessing import OneHotEncoder, OrdinalEncoder, MinMaxScaler, StandardScaler, RobustScaler\n",
    "from sklearn.tree import DecisionTreeRegressor\n",
    "from sklearn.model_selection import train_test_split\n",
    "from sklearn.model_selection import cross_val_score\n",
    "from sklearn.metrics import mean_squared_error, mean_absolute_error\n",
    "from sklearn.model_selection import RandomizedSearchCV, KFold"
   ]
  },
  {
   "cell_type": "code",
   "execution_count": 85,
   "metadata": {},
   "outputs": [
    {
     "data": {
      "text/plain": [
       "(50930, 15)"
      ]
     },
     "execution_count": 85,
     "metadata": {},
     "output_type": "execute_result"
    }
   ],
   "source": [
    "## Load dataset and drop unusefull columns\n",
    "X_full = pd.read_csv('classes_dataset.csv', dtype={col: np.float32 for col in ['lcc', 'lcom*']})\n",
    "X_full.shape"
   ]
  },
  {
   "cell_type": "code",
   "execution_count": 86,
   "metadata": {},
   "outputs": [
    {
     "data": {
      "text/plain": [
       "(49325, 13)"
      ]
     },
     "execution_count": 86,
     "metadata": {},
     "output_type": "execute_result"
    }
   ],
   "source": [
    "## Initial data treatment\n",
    "X_full = X_full.drop(['lcc'], axis=1)\n",
    "X_full = X_full.drop(['refusedBequest'], axis=1)\n",
    "X_full = X_full.dropna()\n",
    "X_full.shape"
   ]
  },
  {
   "cell_type": "code",
   "execution_count": 87,
   "metadata": {},
   "outputs": [
    {
     "data": {
      "text/html": [
       "<div>\n",
       "<style scoped>\n",
       "    .dataframe tbody tr th:only-of-type {\n",
       "        vertical-align: middle;\n",
       "    }\n",
       "\n",
       "    .dataframe tbody tr th {\n",
       "        vertical-align: top;\n",
       "    }\n",
       "\n",
       "    .dataframe thead th {\n",
       "        text-align: right;\n",
       "    }\n",
       "</style>\n",
       "<table border=\"1\" class=\"dataframe\">\n",
       "  <thead>\n",
       "    <tr style=\"text-align: right;\">\n",
       "      <th></th>\n",
       "      <th>Unnamed: 0</th>\n",
       "      <th>dit</th>\n",
       "      <th>fanin</th>\n",
       "      <th>fanout</th>\n",
       "      <th>lcom*</th>\n",
       "      <th>loc</th>\n",
       "      <th>noc</th>\n",
       "      <th>rfc</th>\n",
       "      <th>innerClassesQty</th>\n",
       "      <th>totalFieldsQty</th>\n",
       "      <th>totalMethodsQty</th>\n",
       "      <th>wmc</th>\n",
       "      <th>godClass</th>\n",
       "    </tr>\n",
       "  </thead>\n",
       "  <tbody>\n",
       "    <tr>\n",
       "      <th>0</th>\n",
       "      <td>0</td>\n",
       "      <td>4</td>\n",
       "      <td>1</td>\n",
       "      <td>6</td>\n",
       "      <td>0.592593</td>\n",
       "      <td>39</td>\n",
       "      <td>0</td>\n",
       "      <td>12</td>\n",
       "      <td>0</td>\n",
       "      <td>3</td>\n",
       "      <td>9</td>\n",
       "      <td>10</td>\n",
       "      <td>0</td>\n",
       "    </tr>\n",
       "    <tr>\n",
       "      <th>1</th>\n",
       "      <td>1</td>\n",
       "      <td>4</td>\n",
       "      <td>2</td>\n",
       "      <td>7</td>\n",
       "      <td>0.000000</td>\n",
       "      <td>18</td>\n",
       "      <td>0</td>\n",
       "      <td>6</td>\n",
       "      <td>0</td>\n",
       "      <td>0</td>\n",
       "      <td>4</td>\n",
       "      <td>6</td>\n",
       "      <td>0</td>\n",
       "    </tr>\n",
       "    <tr>\n",
       "      <th>2</th>\n",
       "      <td>2</td>\n",
       "      <td>1</td>\n",
       "      <td>0</td>\n",
       "      <td>0</td>\n",
       "      <td>1.000000</td>\n",
       "      <td>56</td>\n",
       "      <td>0</td>\n",
       "      <td>0</td>\n",
       "      <td>3</td>\n",
       "      <td>4</td>\n",
       "      <td>4</td>\n",
       "      <td>4</td>\n",
       "      <td>0</td>\n",
       "    </tr>\n",
       "    <tr>\n",
       "      <th>3</th>\n",
       "      <td>3</td>\n",
       "      <td>1</td>\n",
       "      <td>1</td>\n",
       "      <td>0</td>\n",
       "      <td>0.000000</td>\n",
       "      <td>4</td>\n",
       "      <td>0</td>\n",
       "      <td>0</td>\n",
       "      <td>0</td>\n",
       "      <td>0</td>\n",
       "      <td>2</td>\n",
       "      <td>2</td>\n",
       "      <td>0</td>\n",
       "    </tr>\n",
       "    <tr>\n",
       "      <th>4</th>\n",
       "      <td>4</td>\n",
       "      <td>3</td>\n",
       "      <td>3</td>\n",
       "      <td>5</td>\n",
       "      <td>0.000000</td>\n",
       "      <td>16</td>\n",
       "      <td>0</td>\n",
       "      <td>7</td>\n",
       "      <td>0</td>\n",
       "      <td>0</td>\n",
       "      <td>4</td>\n",
       "      <td>4</td>\n",
       "      <td>0</td>\n",
       "    </tr>\n",
       "  </tbody>\n",
       "</table>\n",
       "</div>"
      ],
      "text/plain": [
       "   Unnamed: 0  dit  fanin  fanout     lcom*  loc  noc  rfc  innerClassesQty  \\\n",
       "0           0    4      1       6  0.592593   39    0   12                0   \n",
       "1           1    4      2       7  0.000000   18    0    6                0   \n",
       "2           2    1      0       0  1.000000   56    0    0                3   \n",
       "3           3    1      1       0  0.000000    4    0    0                0   \n",
       "4           4    3      3       5  0.000000   16    0    7                0   \n",
       "\n",
       "   totalFieldsQty  totalMethodsQty  wmc  godClass  \n",
       "0               3                9   10         0  \n",
       "1               0                4    6         0  \n",
       "2               4                4    4         0  \n",
       "3               0                2    2         0  \n",
       "4               0                4    4         0  "
      ]
     },
     "execution_count": 87,
     "metadata": {},
     "output_type": "execute_result"
    }
   ],
   "source": [
    "## Show dataframe header\n",
    "X_full.head()"
   ]
  },
  {
   "cell_type": "code",
   "execution_count": 88,
   "metadata": {},
   "outputs": [],
   "source": [
    "## Function to show boxplot\n",
    "def plot_boxplot(df):\n",
    "    df.boxplot()\n",
    "    plt.grid(False)\n",
    "    plt.show()"
   ]
  },
  {
   "cell_type": "code",
   "execution_count": 89,
   "metadata": {
    "scrolled": true
   },
   "outputs": [
    {
     "data": {
      "image/png": "[encoded data removed]",
      "text/plain": [
       "<Figure size 432x288 with 1 Axes>"
      ]
     },
     "metadata": {
      "needs_background": "light"
     },
     "output_type": "display_data"
    }
   ],
   "source": [
    "plot_boxplot(X_full)"
   ]
  },
  {
   "cell_type": "code",
   "execution_count": 90,
   "metadata": {},
   "outputs": [],
   "source": [
    "## Function to return outliers\n",
    "def outliers(df, ft):\n",
    "    \n",
    "    ## first quartile\n",
    "    Q1 = df[ft].quantile(0.25)\n",
    "    \n",
    "    ## third quartile\n",
    "    Q3 = df[ft].quantile(0.75)\n",
    "    \n",
    "    ## calculate interquartile range - distance between quartiles\n",
    "    IQR = Q3-Q1\n",
    "    \n",
    "    ## calculate upper boundary\n",
    "    UB = Q3 + 1.5 * IQR\n",
    "    \n",
    "    ## calculate lower boundary\n",
    "    LB = Q1 - 1.5 * IQR\n",
    "    \n",
    "    ## outliers list\n",
    "    index_outliers = df.index[ (df[ft] < LB) | (df[ft] > UB) ]\n",
    "    \n",
    "    # return indexes list\n",
    "    return index_outliers"
   ]
  },
  {
   "cell_type": "code",
   "execution_count": 91,
   "metadata": {},
   "outputs": [],
   "source": [
    "## Create list of outliers, by index\n",
    "index_list = []\n",
    "for feature in ['dit', 'fanin', 'fanout', 'lcom*', 'loc', 'noc', 'rfc', 'innerClassesQty', 'totalFieldsQty', 'totalMethodsQty', 'wmc']:\n",
    "    index_list.extend(outliers(X_full, feature))"
   ]
  },
  {
   "cell_type": "code",
   "execution_count": 92,
   "metadata": {},
   "outputs": [
    {
     "data": {
      "text/plain": [
       "44094"
      ]
     },
     "execution_count": 92,
     "metadata": {},
     "output_type": "execute_result"
    }
   ],
   "source": [
    "## Show index list size\n",
    "len(index_list)"
   ]
  },
  {
   "cell_type": "code",
   "execution_count": 95,
   "metadata": {},
   "outputs": [],
   "source": [
    "## Split dataset in metrics and godsmell ds\n",
    "X = X_full.drop(['godClass'], axis=1)\n",
    "y = X_full.godClass"
   ]
  },
  {
   "cell_type": "code",
   "execution_count": 98,
   "metadata": {},
   "outputs": [],
   "source": [
    "## Split train and test dataset\n",
    "X_train, X_test, y_train, y_test = train_test_split(X, y, train_size=0.8, random_state=3)"
   ]
  },
  {
   "cell_type": "code",
   "execution_count": 99,
   "metadata": {
    "scrolled": true
   },
   "outputs": [
    {
     "name": "stdout",
     "output_type": "stream",
     "text": [
      "<class 'pandas.core.frame.DataFrame'>\n",
      "Int64Index: 39460 entries, 1183 to 6119\n",
      "Data columns (total 12 columns):\n",
      " #   Column           Non-Null Count  Dtype  \n",
      "---  ------           --------------  -----  \n",
      " 0   Unnamed: 0       39460 non-null  int64  \n",
      " 1   dit              39460 non-null  int64  \n",
      " 2   fanin            39460 non-null  int64  \n",
      " 3   fanout           39460 non-null  int64  \n",
      " 4   lcom*            39460 non-null  float32\n",
      " 5   loc              39460 non-null  int64  \n",
      " 6   noc              39460 non-null  int64  \n",
      " 7   rfc              39460 non-null  int64  \n",
      " 8   innerClassesQty  39460 non-null  int64  \n",
      " 9   totalFieldsQty   39460 non-null  int64  \n",
      " 10  totalMethodsQty  39460 non-null  int64  \n",
      " 11  wmc              39460 non-null  int64  \n",
      "dtypes: float32(1), int64(11)\n",
      "memory usage: 3.8 MB\n"
     ]
    }
   ],
   "source": [
    "## Show metrics dataset header\n",
    "X_train.info()"
   ]
  },
  {
   "cell_type": "code",
   "execution_count": 101,
   "metadata": {},
   "outputs": [
    {
     "data": {
      "text/plain": [
       "1183     0\n",
       "46352    0\n",
       "6999     0\n",
       "7087     0\n",
       "47098    1\n",
       "        ..\n",
       "26634    0\n",
       "49648    0\n",
       "11720    0\n",
       "1756     0\n",
       "6119     0\n",
       "Name: godClass, Length: 39460, dtype: int64"
      ]
     },
     "execution_count": 101,
     "metadata": {},
     "output_type": "execute_result"
    }
   ],
   "source": [
    "y_train"
   ]
  },
  {
   "cell_type": "code",
   "execution_count": 103,
   "metadata": {},
   "outputs": [
    {
     "data": {
      "text/plain": [
       "False"
      ]
     },
     "execution_count": 103,
     "metadata": {},
     "output_type": "execute_result"
    }
   ],
   "source": [
    "np.any(np.isnan(X))"
   ]
  },
  {
   "cell_type": "code",
   "execution_count": 104,
   "metadata": {},
   "outputs": [],
   "source": [
    "## PIPELINE"
   ]
  },
  {
   "cell_type": "code",
   "execution_count": 105,
   "metadata": {},
   "outputs": [],
   "source": [
    "SEED=0\n",
    "decision_tree_regressor = DecisionTreeRegressor(random_state=SEED, criterion='mse')"
   ]
  },
  {
   "cell_type": "code",
   "execution_count": 106,
   "metadata": {},
   "outputs": [],
   "source": [
    "pipe = Pipeline(steps=[\n",
    "            ('robustscaler', RobustScaler()),\n",
    "            ('regressor', decision_tree_regressor)\n",
    "    ])"
   ]
  },
  {
   "cell_type": "code",
   "execution_count": 107,
   "metadata": {},
   "outputs": [],
   "source": [
    "# https://machinelearningmastery.com/hyperparameter-optimization-with-random-search-and-grid-search/\n",
    "parameters = dict(\n",
    "    regressor__max_depth= [2,3,5,7,9,11,13],\n",
    "    regressor__min_samples_split= [32,64,128,256],\n",
    "    regressor__min_samples_leaf= [32,64,128,256])"
   ]
  },
  {
   "cell_type": "code",
   "execution_count": 108,
   "metadata": {},
   "outputs": [],
   "source": [
    "randomized_search = RandomizedSearchCV(pipe,\n",
    "                              parameters,\n",
    "                              cv = KFold(n_splits=5),\n",
    "                                        n_iter=20,\n",
    "                                      random_state=11)"
   ]
  },
  {
   "cell_type": "code",
   "execution_count": 109,
   "metadata": {},
   "outputs": [
    {
     "data": {
      "text/plain": [
       "RandomizedSearchCV(cv=KFold(n_splits=5, random_state=None, shuffle=False),\n",
       "                   estimator=Pipeline(steps=[('robustscaler', RobustScaler()),\n",
       "                                             ('regressor',\n",
       "                                              DecisionTreeRegressor(random_state=0))]),\n",
       "                   n_iter=20,\n",
       "                   param_distributions={'regressor__max_depth': [2, 3, 5, 7, 9,\n",
       "                                                                 11, 13],\n",
       "                                        'regressor__min_samples_leaf': [32, 64,\n",
       "                                                                        128,\n",
       "                                                                        256],\n",
       "                                        'regressor__min_samples_split': [32, 64,\n",
       "                                                                         128,\n",
       "                                                                         256]},\n",
       "                   random_state=11)"
      ]
     },
     "execution_count": 109,
     "metadata": {},
     "output_type": "execute_result"
    }
   ],
   "source": [
    "# Exporta precisão? Acurácia? Etc...\n",
    "randomized_search.fit(X_train, y_train)"
   ]
  },
  {
   "cell_type": "code",
   "execution_count": 111,
   "metadata": {},
   "outputs": [
    {
     "data": {
      "text/html": [
       "<div>\n",
       "<style scoped>\n",
       "    .dataframe tbody tr th:only-of-type {\n",
       "        vertical-align: middle;\n",
       "    }\n",
       "\n",
       "    .dataframe tbody tr th {\n",
       "        vertical-align: top;\n",
       "    }\n",
       "\n",
       "    .dataframe thead th {\n",
       "        text-align: right;\n",
       "    }\n",
       "</style>\n",
       "<table border=\"1\" class=\"dataframe\">\n",
       "  <thead>\n",
       "    <tr style=\"text-align: right;\">\n",
       "      <th></th>\n",
       "      <th>mean_fit_time</th>\n",
       "      <th>std_fit_time</th>\n",
       "      <th>mean_score_time</th>\n",
       "      <th>std_score_time</th>\n",
       "      <th>param_regressor__min_samples_split</th>\n",
       "      <th>param_regressor__min_samples_leaf</th>\n",
       "      <th>param_regressor__max_depth</th>\n",
       "      <th>params</th>\n",
       "      <th>split0_test_score</th>\n",
       "      <th>split1_test_score</th>\n",
       "      <th>split2_test_score</th>\n",
       "      <th>split3_test_score</th>\n",
       "      <th>split4_test_score</th>\n",
       "      <th>mean_test_score</th>\n",
       "      <th>std_test_score</th>\n",
       "      <th>rank_test_score</th>\n",
       "    </tr>\n",
       "  </thead>\n",
       "  <tbody>\n",
       "    <tr>\n",
       "      <th>0</th>\n",
       "      <td>0.074153</td>\n",
       "      <td>0.054549</td>\n",
       "      <td>0.006255</td>\n",
       "      <td>0.012509</td>\n",
       "      <td>64</td>\n",
       "      <td>128</td>\n",
       "      <td>2</td>\n",
       "      <td>{'regressor__min_samples_split': 64, 'regresso...</td>\n",
       "      <td>0.579718</td>\n",
       "      <td>0.508730</td>\n",
       "      <td>0.550061</td>\n",
       "      <td>0.516714</td>\n",
       "      <td>0.526152</td>\n",
       "      <td>0.536275</td>\n",
       "      <td>0.025773</td>\n",
       "      <td>19</td>\n",
       "    </tr>\n",
       "    <tr>\n",
       "      <th>1</th>\n",
       "      <td>0.075259</td>\n",
       "      <td>0.011772</td>\n",
       "      <td>0.000000</td>\n",
       "      <td>0.000000</td>\n",
       "      <td>128</td>\n",
       "      <td>128</td>\n",
       "      <td>11</td>\n",
       "      <td>{'regressor__min_samples_split': 128, 'regress...</td>\n",
       "      <td>0.647416</td>\n",
       "      <td>0.530607</td>\n",
       "      <td>0.556463</td>\n",
       "      <td>0.536338</td>\n",
       "      <td>0.595963</td>\n",
       "      <td>0.573358</td>\n",
       "      <td>0.043541</td>\n",
       "      <td>11</td>\n",
       "    </tr>\n",
       "    <tr>\n",
       "      <th>2</th>\n",
       "      <td>0.088152</td>\n",
       "      <td>0.008242</td>\n",
       "      <td>0.004866</td>\n",
       "      <td>0.006349</td>\n",
       "      <td>256</td>\n",
       "      <td>64</td>\n",
       "      <td>11</td>\n",
       "      <td>{'regressor__min_samples_split': 256, 'regress...</td>\n",
       "      <td>0.697923</td>\n",
       "      <td>0.630189</td>\n",
       "      <td>0.658931</td>\n",
       "      <td>0.614860</td>\n",
       "      <td>0.624366</td>\n",
       "      <td>0.645254</td>\n",
       "      <td>0.030160</td>\n",
       "      <td>6</td>\n",
       "    </tr>\n",
       "    <tr>\n",
       "      <th>3</th>\n",
       "      <td>0.087504</td>\n",
       "      <td>0.007655</td>\n",
       "      <td>0.000000</td>\n",
       "      <td>0.000000</td>\n",
       "      <td>128</td>\n",
       "      <td>64</td>\n",
       "      <td>13</td>\n",
       "      <td>{'regressor__min_samples_split': 128, 'regress...</td>\n",
       "      <td>0.708374</td>\n",
       "      <td>0.641294</td>\n",
       "      <td>0.672289</td>\n",
       "      <td>0.620521</td>\n",
       "      <td>0.640518</td>\n",
       "      <td>0.656599</td>\n",
       "      <td>0.030729</td>\n",
       "      <td>2</td>\n",
       "    </tr>\n",
       "    <tr>\n",
       "      <th>4</th>\n",
       "      <td>0.050003</td>\n",
       "      <td>0.006248</td>\n",
       "      <td>0.003125</td>\n",
       "      <td>0.006249</td>\n",
       "      <td>32</td>\n",
       "      <td>32</td>\n",
       "      <td>2</td>\n",
       "      <td>{'regressor__min_samples_split': 32, 'regresso...</td>\n",
       "      <td>0.579718</td>\n",
       "      <td>0.508943</td>\n",
       "      <td>0.550061</td>\n",
       "      <td>0.516714</td>\n",
       "      <td>0.525338</td>\n",
       "      <td>0.536155</td>\n",
       "      <td>0.025794</td>\n",
       "      <td>20</td>\n",
       "    </tr>\n",
       "  </tbody>\n",
       "</table>\n",
       "</div>"
      ],
      "text/plain": [
       "   mean_fit_time  std_fit_time  mean_score_time  std_score_time  \\\n",
       "0       0.074153      0.054549         0.006255        0.012509   \n",
       "1       0.075259      0.011772         0.000000        0.000000   \n",
       "2       0.088152      0.008242         0.004866        0.006349   \n",
       "3       0.087504      0.007655         0.000000        0.000000   \n",
       "4       0.050003      0.006248         0.003125        0.006249   \n",
       "\n",
       "  param_regressor__min_samples_split param_regressor__min_samples_leaf  \\\n",
       "0                                 64                               128   \n",
       "1                                128                               128   \n",
       "2                                256                                64   \n",
       "3                                128                                64   \n",
       "4                                 32                                32   \n",
       "\n",
       "  param_regressor__max_depth  \\\n",
       "0                          2   \n",
       "1                         11   \n",
       "2                         11   \n",
       "3                         13   \n",
       "4                          2   \n",
       "\n",
       "                                              params  split0_test_score  \\\n",
       "0  {'regressor__min_samples_split': 64, 'regresso...           0.579718   \n",
       "1  {'regressor__min_samples_split': 128, 'regress...           0.647416   \n",
       "2  {'regressor__min_samples_split': 256, 'regress...           0.697923   \n",
       "3  {'regressor__min_samples_split': 128, 'regress...           0.708374   \n",
       "4  {'regressor__min_samples_split': 32, 'regresso...           0.579718   \n",
       "\n",
       "   split1_test_score  split2_test_score  split3_test_score  split4_test_score  \\\n",
       "0           0.508730           0.550061           0.516714           0.526152   \n",
       "1           0.530607           0.556463           0.536338           0.595963   \n",
       "2           0.630189           0.658931           0.614860           0.624366   \n",
       "3           0.641294           0.672289           0.620521           0.640518   \n",
       "4           0.508943           0.550061           0.516714           0.525338   \n",
       "\n",
       "   mean_test_score  std_test_score  rank_test_score  \n",
       "0         0.536275        0.025773               19  \n",
       "1         0.573358        0.043541               11  \n",
       "2         0.645254        0.030160                6  \n",
       "3         0.656599        0.030729                2  \n",
       "4         0.536155        0.025794               20  "
      ]
     },
     "execution_count": 111,
     "metadata": {},
     "output_type": "execute_result"
    }
   ],
   "source": [
    "resultados = pd.DataFrame(randomized_search.cv_results_)\n",
    "resultados.head()"
   ]
  },
  {
   "cell_type": "code",
   "execution_count": 113,
   "metadata": {},
   "outputs": [
    {
     "data": {
      "text/plain": [
       "{'regressor__min_samples_split': 32,\n",
       " 'regressor__min_samples_leaf': 32,\n",
       " 'regressor__max_depth': 13}"
      ]
     },
     "execution_count": 113,
     "metadata": {},
     "output_type": "execute_result"
    }
   ],
   "source": [
    "# qual acuracia e precisao?\n",
    "randomized_search.best_params_"
   ]
  },
  {
   "cell_type": "code",
   "execution_count": 114,
   "metadata": {},
   "outputs": [],
   "source": [
    "from sklearn.metrics import precision_score, recall_score, accuracy_score, f1_score"
   ]
  },
  {
   "cell_type": "code",
   "execution_count": 24,
   "metadata": {},
   "outputs": [
    {
     "data": {
      "text/plain": [
       "1.0"
      ]
     },
     "execution_count": 24,
     "metadata": {},
     "output_type": "execute_result"
    }
   ],
   "source": [
    "precision_score(y, y)"
   ]
  },
  {
   "cell_type": "code",
   "execution_count": 25,
   "metadata": {},
   "outputs": [
    {
     "data": {
      "text/plain": [
       "1.0"
      ]
     },
     "execution_count": 25,
     "metadata": {},
     "output_type": "execute_result"
    }
   ],
   "source": [
    "recall_score(y,y)"
   ]
  },
  {
   "cell_type": "code",
   "execution_count": 26,
   "metadata": {},
   "outputs": [
    {
     "data": {
      "text/plain": [
       "1.0"
      ]
     },
     "execution_count": 26,
     "metadata": {},
     "output_type": "execute_result"
    }
   ],
   "source": [
    "accuracy_score(y,y)"
   ]
  },
  {
   "cell_type": "code",
   "execution_count": 27,
   "metadata": {},
   "outputs": [
    {
     "data": {
      "text/plain": [
       "1.0"
      ]
     },
     "execution_count": 27,
     "metadata": {},
     "output_type": "execute_result"
    }
   ],
   "source": [
    "f1_score(y,y)"
   ]
  },
  {
   "cell_type": "code",
   "execution_count": null,
   "metadata": {},
   "outputs": [],
   "source": []
  }
 ],
 "metadata": {
  "kernelspec": {
   "display_name": "Python 3",
   "language": "python",
   "name": "python3"
  },
  "language_info": {
   "codemirror_mode": {
    "name": "ipython",
    "version": 3
   },
   "file_extension": ".py",
   "mimetype": "text/x-python",
   "name": "python",
   "nbconvert_exporter": "python",
   "pygments_lexer": "ipython3",
   "version": "3.8.5"
  }
 },
 "nbformat": 4,
 "nbformat_minor": 4
}
