{
 "cells": [
  {
   "cell_type": "code",
   "execution_count": 1,
   "metadata": {},
   "outputs": [],
   "source": [
    "## Import libs\n",
    "import pandas as pd\n",
    "import numpy as np\n",
    "import matplotlib.pyplot as plt\n",
    "from sklearn.compose import ColumnTransformer\n",
    "from sklearn.pipeline import Pipeline\n",
    "from sklearn.impute import SimpleImputer\n",
    "from sklearn.preprocessing import OneHotEncoder, OrdinalEncoder, MinMaxScaler, StandardScaler, RobustScaler\n",
    "from sklearn.model_selection import train_test_split\n",
    "from sklearn.model_selection import cross_val_score\n",
    "from sklearn.metrics import mean_squared_error, mean_absolute_error"
   ]
  },
  {
   "cell_type": "code",
   "execution_count": 2,
   "metadata": {},
   "outputs": [],
   "source": [
    "## LOAD DATA AND EXPLORATORY ANALYSIS"
   ]
  },
  {
   "cell_type": "code",
   "execution_count": 3,
   "metadata": {},
   "outputs": [
    {
     "data": {
      "text/plain": [
       "(295815, 15)"
      ]
     },
     "execution_count": 3,
     "metadata": {},
     "output_type": "execute_result"
    }
   ],
   "source": [
    "## Load dataset and drop unusefull columns\n",
    "X_full = pd.read_csv('methods_dataset.csv')\n",
    "X_full.shape"
   ]
  },
  {
   "cell_type": "code",
   "execution_count": 4,
   "metadata": {},
   "outputs": [
    {
     "data": {
      "text/plain": [
       "(295815, 13)"
      ]
     },
     "execution_count": 4,
     "metadata": {},
     "output_type": "execute_result"
    }
   ],
   "source": [
    "## Initial data treatment\n",
    "X_full.drop(['longMethod'], axis=1, inplace=True)\n",
    "X_full.drop(['Unnamed: 0'],axis=1,inplace=True)\n",
    "X_full.dropna(inplace=True)\n",
    "X_full.shape"
   ]
  },
  {
   "cell_type": "code",
   "execution_count": 5,
   "metadata": {},
   "outputs": [
    {
     "data": {
      "text/html": [
       "<div>\n",
       "<style scoped>\n",
       "    .dataframe tbody tr th:only-of-type {\n",
       "        vertical-align: middle;\n",
       "    }\n",
       "\n",
       "    .dataframe tbody tr th {\n",
       "        vertical-align: top;\n",
       "    }\n",
       "\n",
       "    .dataframe thead th {\n",
       "        text-align: right;\n",
       "    }\n",
       "</style>\n",
       "<table border=\"1\" class=\"dataframe\">\n",
       "  <thead>\n",
       "    <tr style=\"text-align: right;\">\n",
       "      <th></th>\n",
       "      <th>fanin</th>\n",
       "      <th>fanout</th>\n",
       "      <th>wmc</th>\n",
       "      <th>loc</th>\n",
       "      <th>returnsQty</th>\n",
       "      <th>variablesQty</th>\n",
       "      <th>parametersQty</th>\n",
       "      <th>loopQty</th>\n",
       "      <th>maxNestedBlocksQty</th>\n",
       "      <th>anonymousClassesQty</th>\n",
       "      <th>innerClassesQty</th>\n",
       "      <th>uniqueWordsQty</th>\n",
       "      <th>featureEnvy</th>\n",
       "    </tr>\n",
       "  </thead>\n",
       "  <tbody>\n",
       "    <tr>\n",
       "      <th>0</th>\n",
       "      <td>0</td>\n",
       "      <td>1</td>\n",
       "      <td>1</td>\n",
       "      <td>3</td>\n",
       "      <td>0</td>\n",
       "      <td>0</td>\n",
       "      <td>1</td>\n",
       "      <td>0</td>\n",
       "      <td>0</td>\n",
       "      <td>0</td>\n",
       "      <td>0</td>\n",
       "      <td>10</td>\n",
       "      <td>0</td>\n",
       "    </tr>\n",
       "  </tbody>\n",
       "</table>\n",
       "</div>"
      ],
      "text/plain": [
       "   fanin  fanout  wmc  loc  returnsQty  variablesQty  parametersQty  loopQty  \\\n",
       "0      0       1    1    3           0             0              1        0   \n",
       "\n",
       "   maxNestedBlocksQty  anonymousClassesQty  innerClassesQty  uniqueWordsQty  \\\n",
       "0                   0                    0                0              10   \n",
       "\n",
       "   featureEnvy  \n",
       "0            0  "
      ]
     },
     "execution_count": 5,
     "metadata": {},
     "output_type": "execute_result"
    }
   ],
   "source": [
    "## Show dataframe header\n",
    "X_full.head(1)"
   ]
  },
  {
   "cell_type": "code",
   "execution_count": 6,
   "metadata": {},
   "outputs": [
    {
     "data": {
      "text/plain": [
       "False"
      ]
     },
     "execution_count": 6,
     "metadata": {},
     "output_type": "execute_result"
    }
   ],
   "source": [
    "## Is any empty feature?\n",
    "np.any(np.isnan(X_full))"
   ]
  },
  {
   "cell_type": "code",
   "execution_count": 7,
   "metadata": {},
   "outputs": [],
   "source": [
    "## SPLIT DATA"
   ]
  },
  {
   "cell_type": "code",
   "execution_count": 8,
   "metadata": {},
   "outputs": [],
   "source": [
    "## Split dataset in metrics and godsmell ds\n",
    "X = X_full.drop(['featureEnvy'], axis=1)\n",
    "y = X_full.featureEnvy"
   ]
  },
  {
   "cell_type": "code",
   "execution_count": 9,
   "metadata": {},
   "outputs": [],
   "source": [
    "SEED=0"
   ]
  },
  {
   "cell_type": "code",
   "execution_count": 10,
   "metadata": {},
   "outputs": [],
   "source": [
    "## Split train and test dataset\n",
    "X_train, X_test, y_train, y_test = train_test_split(X, y, train_size=0.8, random_state=SEED)"
   ]
  },
  {
   "cell_type": "code",
   "execution_count": 11,
   "metadata": {
    "scrolled": true
   },
   "outputs": [
    {
     "data": {
      "text/plain": [
       "(236652, 12)"
      ]
     },
     "execution_count": 11,
     "metadata": {},
     "output_type": "execute_result"
    }
   ],
   "source": [
    "## Show train size\n",
    "X_train.shape"
   ]
  },
  {
   "cell_type": "code",
   "execution_count": 12,
   "metadata": {},
   "outputs": [
    {
     "data": {
      "text/plain": [
       "(59163, 12)"
      ]
     },
     "execution_count": 12,
     "metadata": {},
     "output_type": "execute_result"
    }
   ],
   "source": [
    "## Show test size\n",
    "X_test.shape"
   ]
  },
  {
   "cell_type": "code",
   "execution_count": 13,
   "metadata": {},
   "outputs": [],
   "source": [
    "## CREATE PIPELINE"
   ]
  },
  {
   "cell_type": "code",
   "execution_count": 14,
   "metadata": {},
   "outputs": [],
   "source": [
    "## Import ML algorithm\n",
    "from sklearn.ensemble import GradientBoostingClassifier"
   ]
  },
  {
   "cell_type": "code",
   "execution_count": 15,
   "metadata": {},
   "outputs": [],
   "source": [
    "## Create instance\n",
    "gbm = GradientBoostingClassifier(random_state=SEED)"
   ]
  },
  {
   "cell_type": "code",
   "execution_count": 16,
   "metadata": {},
   "outputs": [],
   "source": [
    "pipe = Pipeline(steps=[\n",
    "    ('minmaxscaler', MinMaxScaler()),\n",
    "    ('gbm', gbm)\n",
    "])"
   ]
  },
  {
   "cell_type": "code",
   "execution_count": 17,
   "metadata": {
    "scrolled": true
   },
   "outputs": [
    {
     "data": {
      "text/plain": [
       "dict_keys(['memory', 'steps', 'verbose', 'minmaxscaler', 'gbm', 'minmaxscaler__clip', 'minmaxscaler__copy', 'minmaxscaler__feature_range', 'gbm__ccp_alpha', 'gbm__criterion', 'gbm__init', 'gbm__learning_rate', 'gbm__loss', 'gbm__max_depth', 'gbm__max_features', 'gbm__max_leaf_nodes', 'gbm__min_impurity_decrease', 'gbm__min_impurity_split', 'gbm__min_samples_leaf', 'gbm__min_samples_split', 'gbm__min_weight_fraction_leaf', 'gbm__n_estimators', 'gbm__n_iter_no_change', 'gbm__random_state', 'gbm__subsample', 'gbm__tol', 'gbm__validation_fraction', 'gbm__verbose', 'gbm__warm_start'])"
      ]
     },
     "execution_count": 17,
     "metadata": {},
     "output_type": "execute_result"
    }
   ],
   "source": [
    "pipe.get_params().keys()"
   ]
  },
  {
   "cell_type": "code",
   "execution_count": 18,
   "metadata": {},
   "outputs": [],
   "source": [
    "# 66 possibilities\n",
    "n_estimators = [10, 100, 1000]\n",
    "learning_rate = [0.001, 0.01, 0.1]\n",
    "subsample = [0.5, 0.7, 1.0]\n",
    "max_depth = [3, 7, 9]\n",
    "\n",
    "parameters = dict(\n",
    "    gbm__n_estimators=n_estimators,\n",
    "    gbm__learning_rate=learning_rate,\n",
    "    gbm__subsample=subsample,\n",
    "    gbm__max_depth=max_depth)"
   ]
  },
  {
   "cell_type": "code",
   "execution_count": 19,
   "metadata": {},
   "outputs": [],
   "source": [
    "## TUNING THE MODEL"
   ]
  },
  {
   "cell_type": "code",
   "execution_count": 20,
   "metadata": {},
   "outputs": [],
   "source": [
    "## Import libs\n",
    "from sklearn.model_selection import RandomizedSearchCV, KFold"
   ]
  },
  {
   "cell_type": "code",
   "execution_count": 21,
   "metadata": {},
   "outputs": [],
   "source": [
    "## Randomized Search Instance\n",
    "randomized_search = RandomizedSearchCV(pipe,parameters,cv = KFold(n_splits=10),n_iter=50,random_state=SEED,scoring='neg_mean_squared_error')"
   ]
  },
  {
   "cell_type": "code",
   "execution_count": 22,
   "metadata": {},
   "outputs": [
    {
     "data": {
      "text/plain": [
       "RandomizedSearchCV(cv=KFold(n_splits=10, random_state=None, shuffle=False),\n",
       "                   estimator=Pipeline(steps=[('minmaxscaler', MinMaxScaler()),\n",
       "                                             ('gbm',\n",
       "                                              GradientBoostingClassifier(random_state=0))]),\n",
       "                   n_iter=50,\n",
       "                   param_distributions={'gbm__learning_rate': [0.001, 0.01,\n",
       "                                                               0.1],\n",
       "                                        'gbm__max_depth': [3, 7, 9],\n",
       "                                        'gbm__n_estimators': [10, 100, 1000],\n",
       "                                        'gbm__subsample': [0.5, 0.7, 1.0]},\n",
       "                   random_state=0, scoring='neg_mean_squared_error')"
      ]
     },
     "execution_count": 22,
     "metadata": {},
     "output_type": "execute_result"
    }
   ],
   "source": [
    "randomized_search.fit(X_train, y_train)"
   ]
  },
  {
   "cell_type": "code",
   "execution_count": 23,
   "metadata": {
    "scrolled": true
   },
   "outputs": [
    {
     "data": {
      "text/html": [
       "<div>\n",
       "<style scoped>\n",
       "    .dataframe tbody tr th:only-of-type {\n",
       "        vertical-align: middle;\n",
       "    }\n",
       "\n",
       "    .dataframe tbody tr th {\n",
       "        vertical-align: top;\n",
       "    }\n",
       "\n",
       "    .dataframe thead th {\n",
       "        text-align: right;\n",
       "    }\n",
       "</style>\n",
       "<table border=\"1\" class=\"dataframe\">\n",
       "  <thead>\n",
       "    <tr style=\"text-align: right;\">\n",
       "      <th></th>\n",
       "      <th>mean_fit_time</th>\n",
       "      <th>std_fit_time</th>\n",
       "      <th>mean_score_time</th>\n",
       "      <th>std_score_time</th>\n",
       "      <th>param_gbm__subsample</th>\n",
       "      <th>param_gbm__n_estimators</th>\n",
       "      <th>param_gbm__max_depth</th>\n",
       "      <th>param_gbm__learning_rate</th>\n",
       "      <th>params</th>\n",
       "      <th>split0_test_score</th>\n",
       "      <th>...</th>\n",
       "      <th>split3_test_score</th>\n",
       "      <th>split4_test_score</th>\n",
       "      <th>split5_test_score</th>\n",
       "      <th>split6_test_score</th>\n",
       "      <th>split7_test_score</th>\n",
       "      <th>split8_test_score</th>\n",
       "      <th>split9_test_score</th>\n",
       "      <th>mean_test_score</th>\n",
       "      <th>std_test_score</th>\n",
       "      <th>rank_test_score</th>\n",
       "    </tr>\n",
       "  </thead>\n",
       "  <tbody>\n",
       "    <tr>\n",
       "      <th>0</th>\n",
       "      <td>47.777097</td>\n",
       "      <td>2.901798</td>\n",
       "      <td>0.104295</td>\n",
       "      <td>0.001341</td>\n",
       "      <td>0.7</td>\n",
       "      <td>100</td>\n",
       "      <td>9</td>\n",
       "      <td>0.001</td>\n",
       "      <td>{'gbm__subsample': 0.7, 'gbm__n_estimators': 1...</td>\n",
       "      <td>-0.016226</td>\n",
       "      <td>...</td>\n",
       "      <td>-0.016142</td>\n",
       "      <td>-0.01517</td>\n",
       "      <td>-0.015339</td>\n",
       "      <td>-0.015212</td>\n",
       "      <td>-0.016438</td>\n",
       "      <td>-0.015001</td>\n",
       "      <td>-0.016184</td>\n",
       "      <td>-0.015593</td>\n",
       "      <td>0.000628</td>\n",
       "      <td>13</td>\n",
       "    </tr>\n",
       "    <tr>\n",
       "      <th>1</th>\n",
       "      <td>1.340569</td>\n",
       "      <td>0.005595</td>\n",
       "      <td>0.009308</td>\n",
       "      <td>0.000153</td>\n",
       "      <td>0.5</td>\n",
       "      <td>10</td>\n",
       "      <td>3</td>\n",
       "      <td>0.01</td>\n",
       "      <td>{'gbm__subsample': 0.5, 'gbm__n_estimators': 1...</td>\n",
       "      <td>-0.016226</td>\n",
       "      <td>...</td>\n",
       "      <td>-0.016142</td>\n",
       "      <td>-0.01517</td>\n",
       "      <td>-0.015339</td>\n",
       "      <td>-0.015212</td>\n",
       "      <td>-0.016438</td>\n",
       "      <td>-0.015001</td>\n",
       "      <td>-0.016184</td>\n",
       "      <td>-0.015593</td>\n",
       "      <td>0.000628</td>\n",
       "      <td>13</td>\n",
       "    </tr>\n",
       "  </tbody>\n",
       "</table>\n",
       "<p>2 rows × 22 columns</p>\n",
       "</div>"
      ],
      "text/plain": [
       "   mean_fit_time  std_fit_time  mean_score_time  std_score_time  \\\n",
       "0      47.777097      2.901798         0.104295        0.001341   \n",
       "1       1.340569      0.005595         0.009308        0.000153   \n",
       "\n",
       "  param_gbm__subsample param_gbm__n_estimators param_gbm__max_depth  \\\n",
       "0                  0.7                     100                    9   \n",
       "1                  0.5                      10                    3   \n",
       "\n",
       "  param_gbm__learning_rate                                             params  \\\n",
       "0                    0.001  {'gbm__subsample': 0.7, 'gbm__n_estimators': 1...   \n",
       "1                     0.01  {'gbm__subsample': 0.5, 'gbm__n_estimators': 1...   \n",
       "\n",
       "   split0_test_score  ...  split3_test_score  split4_test_score  \\\n",
       "0          -0.016226  ...          -0.016142           -0.01517   \n",
       "1          -0.016226  ...          -0.016142           -0.01517   \n",
       "\n",
       "   split5_test_score  split6_test_score  split7_test_score  split8_test_score  \\\n",
       "0          -0.015339          -0.015212          -0.016438          -0.015001   \n",
       "1          -0.015339          -0.015212          -0.016438          -0.015001   \n",
       "\n",
       "   split9_test_score  mean_test_score  std_test_score  rank_test_score  \n",
       "0          -0.016184        -0.015593        0.000628               13  \n",
       "1          -0.016184        -0.015593        0.000628               13  \n",
       "\n",
       "[2 rows x 22 columns]"
      ]
     },
     "execution_count": 23,
     "metadata": {},
     "output_type": "execute_result"
    }
   ],
   "source": [
    "resultados = pd.DataFrame(randomized_search.cv_results_)\n",
    "resultados.head(2)"
   ]
  },
  {
   "cell_type": "code",
   "execution_count": 24,
   "metadata": {},
   "outputs": [
    {
     "data": {
      "text/plain": [
       "{'gbm__subsample': 0.7,\n",
       " 'gbm__n_estimators': 1000,\n",
       " 'gbm__max_depth': 9,\n",
       " 'gbm__learning_rate': 0.01}"
      ]
     },
     "execution_count": 24,
     "metadata": {},
     "output_type": "execute_result"
    }
   ],
   "source": [
    "## Print best params\n",
    "randomized_search.best_params_"
   ]
  },
  {
   "cell_type": "code",
   "execution_count": 25,
   "metadata": {
    "scrolled": true
   },
   "outputs": [
    {
     "data": {
      "text/plain": [
       "-0.014996698990166858"
      ]
     },
     "execution_count": 25,
     "metadata": {},
     "output_type": "execute_result"
    }
   ],
   "source": [
    "## Print best score\n",
    "randomized_search.best_score_"
   ]
  },
  {
   "cell_type": "code",
   "execution_count": 26,
   "metadata": {},
   "outputs": [],
   "source": [
    "## TRAINING THE BEST MODEL"
   ]
  },
  {
   "cell_type": "code",
   "execution_count": 27,
   "metadata": {},
   "outputs": [
    {
     "data": {
      "text/plain": [
       "GradientBoostingClassifier(learning_rate=0.01, max_depth=9, n_estimators=1000,\n",
       "                           random_state=0, subsample=0.7)"
      ]
     },
     "execution_count": 27,
     "metadata": {},
     "output_type": "execute_result"
    }
   ],
   "source": [
    "## Traning best model\n",
    "tuned_hyper_model= GradientBoostingClassifier(random_state=SEED, subsample=0.7, n_estimators=1000, max_depth=9, learning_rate=0.01)\n",
    "tuned_hyper_model.fit(X_train,y_train)"
   ]
  },
  {
   "cell_type": "code",
   "execution_count": 28,
   "metadata": {},
   "outputs": [
    {
     "data": {
      "text/plain": [
       "array([0.060679  , 0.21329773, 0.07052546, 0.16148975, 0.0449355 ,\n",
       "       0.09337618, 0.06836777, 0.02758867, 0.05395493, 0.01530168,\n",
       "       0.00168864, 0.18879469])"
      ]
     },
     "execution_count": 28,
     "metadata": {},
     "output_type": "execute_result"
    }
   ],
   "source": [
    "tuned_hyper_model.feature_importances_"
   ]
  },
  {
   "cell_type": "code",
   "execution_count": 29,
   "metadata": {},
   "outputs": [
    {
     "data": {
      "image/png": "[encoded data removed]",
      "text/plain": [
       "<Figure size 432x288 with 1 Axes>"
      ]
     },
     "metadata": {
      "needs_background": "light"
     },
     "output_type": "display_data"
    }
   ],
   "source": [
    "feat_importances = pd.Series(tuned_hyper_model.feature_importances_, index=X_test.columns)\n",
    "feat_importances.nlargest(11).plot(kind='barh')\n",
    "plt.show()"
   ]
  },
  {
   "cell_type": "code",
   "execution_count": 30,
   "metadata": {},
   "outputs": [],
   "source": [
    "## Prediction\n",
    "y_pred=tuned_hyper_model.predict(X_test)"
   ]
  },
  {
   "cell_type": "code",
   "execution_count": 31,
   "metadata": {},
   "outputs": [
    {
     "data": {
      "text/plain": [
       "<matplotlib.collections.PathCollection at 0x7fc7de442f40>"
      ]
     },
     "execution_count": 31,
     "metadata": {},
     "output_type": "execute_result"
    },
    {
     "data": {
      "image/png": "[encoded data removed]",
      "text/plain": [
       "<Figure size 432x288 with 1 Axes>"
      ]
     },
     "metadata": {
      "needs_background": "light"
     },
     "output_type": "display_data"
    }
   ],
   "source": [
    "## Plot result\n",
    "plt.scatter(y_test,y_pred)"
   ]
  },
  {
   "cell_type": "code",
   "execution_count": 32,
   "metadata": {},
   "outputs": [],
   "source": [
    "## EVALUATE"
   ]
  },
  {
   "cell_type": "code",
   "execution_count": 33,
   "metadata": {},
   "outputs": [
    {
     "name": "stdout",
     "output_type": "stream",
     "text": [
      "MAE: 0.015719284011966938\n",
      "MSE: 0.015719284011966938\n",
      "RMSE: 0.12537656883152823\n"
     ]
    }
   ],
   "source": [
    "## Evaluate error rate\n",
    "from sklearn import metrics\n",
    "\n",
    "print('MAE:', metrics.mean_absolute_error(y_test,y_pred))\n",
    "print('MSE:', metrics.mean_squared_error(y_test, y_pred))\n",
    "print('RMSE:', np.sqrt(metrics.mean_squared_error(y_test, y_pred)))"
   ]
  },
  {
   "cell_type": "code",
   "execution_count": 34,
   "metadata": {},
   "outputs": [],
   "source": [
    "from sklearn.metrics import precision_score, recall_score, accuracy_score, f1_score"
   ]
  },
  {
   "cell_type": "code",
   "execution_count": 35,
   "metadata": {},
   "outputs": [
    {
     "data": {
      "text/plain": [
       "0.984280715988033"
      ]
     },
     "execution_count": 35,
     "metadata": {},
     "output_type": "execute_result"
    }
   ],
   "source": [
    "accuracy_score(y_test, y_pred.round())"
   ]
  },
  {
   "cell_type": "code",
   "execution_count": 36,
   "metadata": {},
   "outputs": [
    {
     "data": {
      "text/plain": [
       "0.6481481481481481"
      ]
     },
     "execution_count": 36,
     "metadata": {},
     "output_type": "execute_result"
    }
   ],
   "source": [
    "precision_score(y_test, y_pred.round())"
   ]
  },
  {
   "cell_type": "code",
   "execution_count": 37,
   "metadata": {},
   "outputs": [
    {
     "data": {
      "text/plain": [
       "0.07276507276507277"
      ]
     },
     "execution_count": 37,
     "metadata": {},
     "output_type": "execute_result"
    }
   ],
   "source": [
    "recall_score(y_test, y_pred.round())"
   ]
  },
  {
   "cell_type": "code",
   "execution_count": 38,
   "metadata": {},
   "outputs": [
    {
     "data": {
      "text/plain": [
       "0.1308411214953271"
      ]
     },
     "execution_count": 38,
     "metadata": {},
     "output_type": "execute_result"
    }
   ],
   "source": [
    "f1_score(y_test, y_pred.round())"
   ]
  },
  {
   "cell_type": "code",
   "execution_count": null,
   "metadata": {},
   "outputs": [],
   "source": []
  }
 ],
 "metadata": {
  "kernelspec": {
   "display_name": "Python 3 (ipykernel)",
   "language": "python",
   "name": "python3"
  },
  "language_info": {
   "codemirror_mode": {
    "name": "ipython",
    "version": 3
   },
   "file_extension": ".py",
   "mimetype": "text/x-python",
   "name": "python",
   "nbconvert_exporter": "python",
   "pygments_lexer": "ipython3",
   "version": "3.9.7"
  }
 },
 "nbformat": 4,
 "nbformat_minor": 4
}
